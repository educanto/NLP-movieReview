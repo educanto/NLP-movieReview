{
  "nbformat": 4,
  "nbformat_minor": 0,
  "metadata": {
    "colab": {
      "provenance": [],
      "authorship_tag": "ABX9TyPddm2ijkqPPDnp5wJZz6ny",
      "include_colab_link": true
    },
    "kernelspec": {
      "name": "python3",
      "display_name": "Python 3"
    },
    "language_info": {
      "name": "python"
    }
  },
  "cells": [
    {
      "cell_type": "markdown",
      "metadata": {
        "id": "view-in-github",
        "colab_type": "text"
      },
      "source": [
        "<a href=\"https://colab.research.google.com/github/educanto/NLP-movieReview/blob/main/train.ipynb\" target=\"_parent\"><img src=\"https://colab.research.google.com/assets/colab-badge.svg\" alt=\"Open In Colab\"/></a>"
      ]
    },
    {
      "cell_type": "markdown",
      "metadata": {
        "id": "P8MAm7JmmY8v"
      },
      "source": [
        "**Mount drive**"
      ]
    },
    {
      "cell_type": "code",
      "metadata": {
        "id": "__gsEBVqvqd7",
        "colab": {
          "base_uri": "https://localhost:8080/"
        },
        "outputId": "7e2132aa-ee72-4577-c538-547ed9df863c"
      },
      "source": [
        "from google.colab import drive\n",
        "drive.mount('/content/gdrive', force_remount=True)"
      ],
      "execution_count": null,
      "outputs": [
        {
          "output_type": "stream",
          "name": "stdout",
          "text": [
            "Mounted at /content/gdrive\n"
          ]
        }
      ]
    },
    {
      "cell_type": "markdown",
      "metadata": {
        "id": "prQ86DdtD317"
      },
      "source": [
        "**Import the required packages.**"
      ]
    },
    {
      "cell_type": "code",
      "execution_count": null,
      "metadata": {
        "id": "l4QQTXHHATDS",
        "colab": {
          "base_uri": "https://localhost:8080/"
        },
        "outputId": "88c4cf18-6547-455b-be6a-cca77578a0b0"
      },
      "outputs": [
        {
          "output_type": "stream",
          "name": "stderr",
          "text": [
            "[nltk_data] Downloading package stopwords to /root/nltk_data...\n",
            "[nltk_data]   Package stopwords is already up-to-date!\n",
            "[nltk_data] Downloading package wordnet to /root/nltk_data...\n",
            "[nltk_data]   Package wordnet is already up-to-date!\n",
            "[nltk_data] Downloading package omw-1.4 to /root/nltk_data...\n",
            "[nltk_data]   Package omw-1.4 is already up-to-date!\n"
          ]
        }
      ],
      "source": [
        "import numpy as np\n",
        "import re\n",
        "import pickle\n",
        "import matplotlib.pyplot as plt\n",
        "import nltk\n",
        "from string import punctuation \n",
        "\n",
        "from sklearn.datasets import load_files\n",
        "from sklearn.feature_extraction.text import CountVectorizer, TfidfTransformer, TfidfVectorizer\n",
        "from sklearn.model_selection import train_test_split\n",
        "from sklearn.ensemble import RandomForestClassifier\n",
        "from sklearn.naive_bayes import MultinomialNB\n",
        "from sklearn.pipeline import Pipeline\n",
        "from sklearn.metrics import classification_report, confusion_matrix, accuracy_score, ConfusionMatrixDisplay\n",
        "\n",
        "nltk.download('stopwords')\n",
        "nltk.download('wordnet')\n",
        "nltk.download('omw-1.4')\n",
        "\n",
        "from nltk.corpus import stopwords\n",
        "from nltk.stem import WordNetLemmatizer"
      ]
    },
    {
      "cell_type": "markdown",
      "source": [
        "**Local directory definition**"
      ],
      "metadata": {
        "id": "12P1NR2S6t9m"
      }
    },
    {
      "cell_type": "code",
      "metadata": {
        "id": "HRJZKSdvwTac"
      },
      "source": [
        "import os\n",
        "root_path = '/content/gdrive/MyDrive/IA/Processamento de Linguagem Natural/SKLearn - Sentiment Analysis'\n",
        "os.chdir(root_path)"
      ],
      "execution_count": null,
      "outputs": []
    },
    {
      "cell_type": "markdown",
      "source": [
        "**Load dataset**"
      ],
      "metadata": {
        "id": "KcmLFpLW9a9v"
      }
    },
    {
      "cell_type": "code",
      "source": [
        "dataset_path = 'dataset'\n",
        "\n",
        "data = load_files(dataset_path)\n",
        "x_raw, y = data.data, data.target\n",
        "x_raw = [text.decode('utf-8') for text in x_raw]"
      ],
      "metadata": {
        "id": "TsR64lNA9edG"
      },
      "execution_count": null,
      "outputs": []
    },
    {
      "cell_type": "code",
      "source": [
        "label = {0:'neg',1:'pos'}"
      ],
      "metadata": {
        "id": "KeDn53tpBTt2"
      },
      "execution_count": null,
      "outputs": []
    },
    {
      "cell_type": "markdown",
      "source": [
        "**See some data**"
      ],
      "metadata": {
        "id": "Q3buRVuBBBo2"
      }
    },
    {
      "cell_type": "code",
      "source": [
        "print(x_raw[0])\n",
        "print(y[0])"
      ],
      "metadata": {
        "colab": {
          "base_uri": "https://localhost:8080/"
        },
        "id": "sYT-UeV9AqjX",
        "outputId": "8c964369-fe5e-4631-f83b-9305ed35e91d"
      },
      "execution_count": null,
      "outputs": [
        {
          "output_type": "stream",
          "name": "stdout",
          "text": [
            "arnold schwarzenegger has been an icon for action enthusiasts , since the late 80's , but lately his films have been very sloppy and the one-liners are getting worse . \n",
            "it's hard seeing arnold as mr . freeze in batman and robin , especially when he says tons of ice jokes , but hey he got 15 million , what's it matter to him ? \n",
            "once again arnold has signed to do another expensive blockbuster , that can't compare with the likes of the terminator series , true lies and even eraser . \n",
            "in this so called dark thriller , the devil ( gabriel byrne ) has come upon earth , to impregnate a woman ( robin tunney ) which happens every 1000 years , and basically destroy the world , but apparently god has chosen one man , and that one man is jericho cane ( arnold himself ) . \n",
            "with the help of a trusty sidekick ( kevin pollack ) , they will stop at nothing to let the devil take over the world ! \n",
            "parts of this are actually so absurd , that they would fit right in with dogma . \n",
            "yes , the film is that weak , but it's better than the other blockbuster right now ( sleepy hollow ) , but it makes the world is not enough look like a 4 star film . \n",
            "anyway , this definitely doesn't seem like an arnold movie . \n",
            "it just wasn't the type of film you can see him doing . \n",
            "sure he gave us a few chuckles with his well known one-liners , but he seemed confused as to where his character and the film was going . \n",
            "it's understandable , especially when the ending had to be changed according to some sources . \n",
            "aside form that , he still walked through it , much like he has in the past few films . \n",
            "i'm sorry to say this arnold but maybe these are the end of your action days . \n",
            "speaking of action , where was it in this film ? \n",
            "there was hardly any explosions or fights . \n",
            "the devil made a few places explode , but arnold wasn't kicking some devil butt . \n",
            "the ending was changed to make it more spiritual , which undoubtedly ruined the film . \n",
            "i was at least hoping for a cool ending if nothing else occurred , but once again i was let down . \n",
            "i also don't know why the film took so long and cost so much . \n",
            "there was really no super affects at all , unless you consider an invisible devil , who was in it for 5 minutes tops , worth the overpriced budget . \n",
            "the budget should have gone into a better script , where at least audiences could be somewhat entertained instead of facing boredom . \n",
            "it's pitiful to see how scripts like these get bought and made into a movie . \n",
            "do they even read these things anymore ? \n",
            "it sure doesn't seem like it . \n",
            "thankfully gabriel's performance gave some light to this poor film . \n",
            "when he walks down the street searching for robin tunney , you can't help but feel that he looked like a devil . \n",
            "the guy is creepy looking anyway ! \n",
            "when it's all over , you're just glad it's the end of the movie . \n",
            "don't bother to see this , if you're expecting a solid action flick , because it's neither solid nor does it have action . \n",
            "it's just another movie that we are suckered in to seeing , due to a strategic marketing campaign . \n",
            "save your money and see the world is not enough for an entertaining experience . \n",
            "\n",
            "0\n"
          ]
        }
      ]
    },
    {
      "cell_type": "code",
      "source": [
        "print(x_raw[1])\n",
        "print(y[1])"
      ],
      "metadata": {
        "colab": {
          "base_uri": "https://localhost:8080/"
        },
        "id": "hHIDbAUEBICi",
        "outputId": "d1c4d695-6529-4d83-a717-645764522910"
      },
      "execution_count": null,
      "outputs": [
        {
          "output_type": "stream",
          "name": "stdout",
          "text": [
            "good films are hard to find these days . \n",
            "great films are beyond rare . \n",
            "proof of life , russell crowe's one-two punch of a deft kidnap and rescue thriller , is one of those rare gems . \n",
            "a taut drama laced with strong and subtle acting , an intelligent script , and masterful directing , together it delivers something virtually unheard of in the film industry these days , genuine motivation in a story that rings true . \n",
            "consider the strange coincidence of russell crowe's character in proof of life making the moves on a distraught wife played by meg ryan's character in the film -- all while the real russell crowe was hitching up with married woman meg ryan in the outside world . \n",
            "i haven't seen this much chemistry between actors since mcqueen and mcgraw teamed up in peckinpah's masterpiece , the getaway . \n",
            "but enough with the gossip , let's get to the review . \n",
            "the film revolves around the kidnapping of peter bowman ( david morse ) , an american engineer working in south america who is kidnapped during a mass ambush of civilians by anti-government soldiers . \n",
            "upon discovering his identity , the rebel soldiers decide to ransom him for $6 million . \n",
            "the only problem is that the company peter bowman works for is being auctioned off , and no one will step forward with the money . \n",
            "with no choice available to her , bowman's wife alice ( ryan ) hires terry thorne ( crowe ) , a highly skilled negotiator and rescue operative , to arrange the return of her husband . \n",
            "but when things go wrong -- as they always do in these situations -- terry and his team ( which includes the most surprising casting choice of the year : david caruso ) take matters into their own hands . \n",
            "the film is notable in that it takes this very simple story line and creates a complex and intelligent character-driven vehicle filled with well-written dialogue , shades of motivation , and convincing acting by all the actors . \n",
            "the script is based on both a book ( the long march to freedom ) and a magazine article pertaining to kidnap/ransom situations , and the story has been sharply pieced together by tony gilroy , screenwriter of the devil's advocate and dolores claiborne . \n",
            "the biggest surprise for me was not the chemistry between crowe and ryan , but that between crowe and david caruso . \n",
            "dug out from b-movie hell , caruso pulls off a gutsy performance as crowe's right hand gun while providing most of the film's humor . \n",
            "ryan cries a lot and smokes too many cigarettes , david morse ends up getting everyone at the guerilla camp to hate him , and crowe provides another memorable acting turn as the stoic , gunslinger character of terry thorne . \n",
            "the most memorable pieces of the film lie in its action scenes . \n",
            "the bulk of those scenes , which bookend the movie , work extremely well as establishment and closure devices for all of the story's characters . \n",
            "the scenes are skillfully crafted and executed with amazing accuracy and poise . \n",
            "director taylor hackford mixes both his old-school style of filmmaking with the dizziness of a lars von trier film . \n",
            "proof of life is a thinking man's action movie . \n",
            "it is a film about the choices men and women make in the face of love and war , and the sacrifices one makes for those choices -- the sacrifices that help you sleep at night . \n",
            "\n",
            "1\n"
          ]
        }
      ]
    },
    {
      "cell_type": "markdown",
      "source": [
        "**Pre-processing**"
      ],
      "metadata": {
        "id": "YmTVQWf8CDVj"
      }
    },
    {
      "cell_type": "code",
      "source": [
        "stop_words =  stopwords.words('english')\n",
        "def text_cleaning(text, remove_stop_words=True, lemmatize_words=True):\n",
        "    # Clean the text, with the option to remove stop_words and to lemmatize word\n",
        "    # Clean the text\n",
        "    text = re.sub(r\"[^A-Za-z0-9]\", \" \", text)\n",
        "    text = re.sub(r\"\\'s\", \" \", text)\n",
        "    text =  re.sub(r'http\\S+',' link ', text)\n",
        "    text = re.sub(r'\\b\\d+(?:\\.\\d+)?\\s+', '', text) # remove numbers\n",
        "        \n",
        "    # Remove punctuation from text\n",
        "    text = ''.join([c for c in text if c not in punctuation])\n",
        "    \n",
        "    # Optionally, remove stop words\n",
        "    if remove_stop_words:\n",
        "        text = text.split()\n",
        "        text = [w for w in text if not w in stop_words]\n",
        "        text = \" \".join(text)\n",
        "    \n",
        "    # Optionally, shorten words to their stems\n",
        "    if lemmatize_words:\n",
        "        text = text.split()\n",
        "        lemmatizer = WordNetLemmatizer() \n",
        "        lemmatized_words = [lemmatizer.lemmatize(word) for word in text]\n",
        "        text = \" \".join(lemmatized_words)\n",
        "    \n",
        "    # Return a list of words\n",
        "    return text"
      ],
      "metadata": {
        "id": "PDUVfOKJBG1x"
      },
      "execution_count": null,
      "outputs": []
    },
    {
      "cell_type": "code",
      "source": [
        "x = [text_cleaning(text) for text in x_raw]\n",
        "x[0]"
      ],
      "metadata": {
        "colab": {
          "base_uri": "https://localhost:8080/",
          "height": 147
        },
        "id": "ikrgOiClHCNL",
        "outputId": "852c4ce5-b18d-4d0a-ddfa-e6ef5dad6ea2"
      },
      "execution_count": null,
      "outputs": [
        {
          "output_type": "execute_result",
          "data": {
            "text/plain": [
              "'arnold schwarzenegger icon action enthusiast since late lately film sloppy one liner getting worse hard seeing arnold mr freeze batman robin especially say ton ice joke hey got million matter arnold signed another expensive blockbuster compare like terminator series true lie even eraser called dark thriller devil gabriel byrne come upon earth impregnate woman robin tunney happens every year basically destroy world apparently god chosen one man one man jericho cane arnold help trusty sidekick kevin pollack stop nothing let devil take world part actually absurd would fit right dogma yes film weak better blockbuster right sleepy hollow make world enough look like star film anyway definitely seem like arnold movie type film see sure gave u chuckle well known one liner seemed confused character film going understandable especially ending changed according source aside form still walked much like past film sorry say arnold maybe end action day speaking action film hardly explosion fight devil made place explode arnold kicking devil butt ending changed make spiritual undoubtedly ruined film least hoping cool ending nothing else occurred let also know film took long cost much really super affect unless consider invisible devil minute top worth overpriced budget budget gone better script least audience could somewhat entertained instead facing boredom pitiful see script like get bought made movie even read thing anymore sure seem like thankfully gabriel performance gave light poor film walk street searching robin tunney help feel looked like devil guy creepy looking anyway glad end movie bother see expecting solid action flick neither solid action another movie suckered seeing due strategic marketing campaign save money see world enough entertaining experience'"
            ],
            "application/vnd.google.colaboratory.intrinsic+json": {
              "type": "string"
            }
          },
          "metadata": {},
          "execution_count": 175
        }
      ]
    },
    {
      "cell_type": "markdown",
      "source": [
        "**Split train and test**"
      ],
      "metadata": {
        "id": "aVckeMCXm76P"
      }
    },
    {
      "cell_type": "code",
      "source": [
        "x_train, x_test, y_train, y_test = train_test_split(x,y,test_size=0.2,random_state=42,shuffle=True,stratify=y,)"
      ],
      "metadata": {
        "id": "zyBxYOABH5Y1"
      },
      "execution_count": null,
      "outputs": []
    },
    {
      "cell_type": "markdown",
      "source": [
        "**Train model**"
      ],
      "metadata": {
        "id": "yp_y0DH3m2kY"
      }
    },
    {
      "cell_type": "code",
      "source": [
        "model = RandomForestClassifier(n_estimators=1000, random_state=0)\n",
        "\n",
        "classifier = Pipeline(steps=[('pre_processing',TfidfVectorizer(lowercase=False)),('ensemble',model)])\n",
        "\n",
        "classifier.fit(x_train, y_train) "
      ],
      "metadata": {
        "colab": {
          "base_uri": "https://localhost:8080/",
          "height": 127
        },
        "id": "ErawbVTkH-nW",
        "outputId": "9c74c247-d2f2-4d0c-8216-f97070b826b5"
      },
      "execution_count": null,
      "outputs": [
        {
          "output_type": "execute_result",
          "data": {
            "text/plain": [
              "Pipeline(steps=[('pre_processing', TfidfVectorizer(lowercase=False)),\n",
              "                ('ensemble',\n",
              "                 RandomForestClassifier(n_estimators=1000, random_state=0))])"
            ],
            "text/html": [
              "<style>#sk-container-id-6 {color: black;background-color: white;}#sk-container-id-6 pre{padding: 0;}#sk-container-id-6 div.sk-toggleable {background-color: white;}#sk-container-id-6 label.sk-toggleable__label {cursor: pointer;display: block;width: 100%;margin-bottom: 0;padding: 0.3em;box-sizing: border-box;text-align: center;}#sk-container-id-6 label.sk-toggleable__label-arrow:before {content: \"▸\";float: left;margin-right: 0.25em;color: #696969;}#sk-container-id-6 label.sk-toggleable__label-arrow:hover:before {color: black;}#sk-container-id-6 div.sk-estimator:hover label.sk-toggleable__label-arrow:before {color: black;}#sk-container-id-6 div.sk-toggleable__content {max-height: 0;max-width: 0;overflow: hidden;text-align: left;background-color: #f0f8ff;}#sk-container-id-6 div.sk-toggleable__content pre {margin: 0.2em;color: black;border-radius: 0.25em;background-color: #f0f8ff;}#sk-container-id-6 input.sk-toggleable__control:checked~div.sk-toggleable__content {max-height: 200px;max-width: 100%;overflow: auto;}#sk-container-id-6 input.sk-toggleable__control:checked~label.sk-toggleable__label-arrow:before {content: \"▾\";}#sk-container-id-6 div.sk-estimator input.sk-toggleable__control:checked~label.sk-toggleable__label {background-color: #d4ebff;}#sk-container-id-6 div.sk-label input.sk-toggleable__control:checked~label.sk-toggleable__label {background-color: #d4ebff;}#sk-container-id-6 input.sk-hidden--visually {border: 0;clip: rect(1px 1px 1px 1px);clip: rect(1px, 1px, 1px, 1px);height: 1px;margin: -1px;overflow: hidden;padding: 0;position: absolute;width: 1px;}#sk-container-id-6 div.sk-estimator {font-family: monospace;background-color: #f0f8ff;border: 1px dotted black;border-radius: 0.25em;box-sizing: border-box;margin-bottom: 0.5em;}#sk-container-id-6 div.sk-estimator:hover {background-color: #d4ebff;}#sk-container-id-6 div.sk-parallel-item::after {content: \"\";width: 100%;border-bottom: 1px solid gray;flex-grow: 1;}#sk-container-id-6 div.sk-label:hover label.sk-toggleable__label {background-color: #d4ebff;}#sk-container-id-6 div.sk-serial::before {content: \"\";position: absolute;border-left: 1px solid gray;box-sizing: border-box;top: 0;bottom: 0;left: 50%;z-index: 0;}#sk-container-id-6 div.sk-serial {display: flex;flex-direction: column;align-items: center;background-color: white;padding-right: 0.2em;padding-left: 0.2em;position: relative;}#sk-container-id-6 div.sk-item {position: relative;z-index: 1;}#sk-container-id-6 div.sk-parallel {display: flex;align-items: stretch;justify-content: center;background-color: white;position: relative;}#sk-container-id-6 div.sk-item::before, #sk-container-id-6 div.sk-parallel-item::before {content: \"\";position: absolute;border-left: 1px solid gray;box-sizing: border-box;top: 0;bottom: 0;left: 50%;z-index: -1;}#sk-container-id-6 div.sk-parallel-item {display: flex;flex-direction: column;z-index: 1;position: relative;background-color: white;}#sk-container-id-6 div.sk-parallel-item:first-child::after {align-self: flex-end;width: 50%;}#sk-container-id-6 div.sk-parallel-item:last-child::after {align-self: flex-start;width: 50%;}#sk-container-id-6 div.sk-parallel-item:only-child::after {width: 0;}#sk-container-id-6 div.sk-dashed-wrapped {border: 1px dashed gray;margin: 0 0.4em 0.5em 0.4em;box-sizing: border-box;padding-bottom: 0.4em;background-color: white;}#sk-container-id-6 div.sk-label label {font-family: monospace;font-weight: bold;display: inline-block;line-height: 1.2em;}#sk-container-id-6 div.sk-label-container {text-align: center;}#sk-container-id-6 div.sk-container {/* jupyter's `normalize.less` sets `[hidden] { display: none; }` but bootstrap.min.css set `[hidden] { display: none !important; }` so we also need the `!important` here to be able to override the default hidden behavior on the sphinx rendered scikit-learn.org. See: https://github.com/scikit-learn/scikit-learn/issues/21755 */display: inline-block !important;position: relative;}#sk-container-id-6 div.sk-text-repr-fallback {display: none;}</style><div id=\"sk-container-id-6\" class=\"sk-top-container\"><div class=\"sk-text-repr-fallback\"><pre>Pipeline(steps=[(&#x27;pre_processing&#x27;, TfidfVectorizer(lowercase=False)),\n",
              "                (&#x27;ensemble&#x27;,\n",
              "                 RandomForestClassifier(n_estimators=1000, random_state=0))])</pre><b>In a Jupyter environment, please rerun this cell to show the HTML representation or trust the notebook. <br />On GitHub, the HTML representation is unable to render, please try loading this page with nbviewer.org.</b></div><div class=\"sk-container\" hidden><div class=\"sk-item sk-dashed-wrapped\"><div class=\"sk-label-container\"><div class=\"sk-label sk-toggleable\"><input class=\"sk-toggleable__control sk-hidden--visually\" id=\"sk-estimator-id-12\" type=\"checkbox\" ><label for=\"sk-estimator-id-12\" class=\"sk-toggleable__label sk-toggleable__label-arrow\">Pipeline</label><div class=\"sk-toggleable__content\"><pre>Pipeline(steps=[(&#x27;pre_processing&#x27;, TfidfVectorizer(lowercase=False)),\n",
              "                (&#x27;ensemble&#x27;,\n",
              "                 RandomForestClassifier(n_estimators=1000, random_state=0))])</pre></div></div></div><div class=\"sk-serial\"><div class=\"sk-item\"><div class=\"sk-estimator sk-toggleable\"><input class=\"sk-toggleable__control sk-hidden--visually\" id=\"sk-estimator-id-13\" type=\"checkbox\" ><label for=\"sk-estimator-id-13\" class=\"sk-toggleable__label sk-toggleable__label-arrow\">TfidfVectorizer</label><div class=\"sk-toggleable__content\"><pre>TfidfVectorizer(lowercase=False)</pre></div></div></div><div class=\"sk-item\"><div class=\"sk-estimator sk-toggleable\"><input class=\"sk-toggleable__control sk-hidden--visually\" id=\"sk-estimator-id-14\" type=\"checkbox\" ><label for=\"sk-estimator-id-14\" class=\"sk-toggleable__label sk-toggleable__label-arrow\">RandomForestClassifier</label><div class=\"sk-toggleable__content\"><pre>RandomForestClassifier(n_estimators=1000, random_state=0)</pre></div></div></div></div></div></div></div>"
            ]
          },
          "metadata": {},
          "execution_count": 177
        }
      ]
    },
    {
      "cell_type": "markdown",
      "source": [
        "**Test model**"
      ],
      "metadata": {
        "id": "xEKhsYgRnA4g"
      }
    },
    {
      "cell_type": "code",
      "source": [
        "y_pred = classifier.predict(x_test)"
      ],
      "metadata": {
        "id": "VOG4kByIIZXk"
      },
      "execution_count": null,
      "outputs": []
    },
    {
      "cell_type": "code",
      "source": [
        "disp = ConfusionMatrixDisplay(confusion_matrix=confusion_matrix(y_test, y_pred),\n",
        "                              display_labels=label.values())\n",
        "\n",
        "disp.plot()\n",
        "plt.show()\n",
        "\n",
        "print(label)\n",
        "print(classification_report(y_test,y_pred))\n",
        "print(accuracy_score(y_test, y_pred))"
      ],
      "metadata": {
        "colab": {
          "base_uri": "https://localhost:8080/",
          "height": 482
        },
        "id": "HYPXyihoIgcb",
        "outputId": "20eb8232-9ec3-4ac1-ccd7-f384b35a5901"
      },
      "execution_count": null,
      "outputs": [
        {
          "output_type": "display_data",
          "data": {
            "text/plain": [
              "<Figure size 432x288 with 2 Axes>"
            ],
            "image/png": "[encoded data removed]"
          },
          "metadata": {
            "needs_background": "light"
          }
        },
        {
          "output_type": "stream",
          "name": "stdout",
          "text": [
            "{0: 'neg', 1: 'pos'}\n",
            "              precision    recall  f1-score   support\n",
            "\n",
            "           0       0.78      0.88      0.83       200\n",
            "           1       0.86      0.76      0.81       200\n",
            "\n",
            "    accuracy                           0.82       400\n",
            "   macro avg       0.82      0.82      0.82       400\n",
            "weighted avg       0.82      0.82      0.82       400\n",
            "\n",
            "0.8175\n"
          ]
        }
      ]
    },
    {
      "cell_type": "markdown",
      "source": [
        "**Save model**"
      ],
      "metadata": {
        "id": "3QQ1p09inEOg"
      }
    },
    {
      "cell_type": "code",
      "source": [
        "with open('text_classifier', 'wb') as picklefile:\n",
        "    pickle.dump(classifier, picklefile)"
      ],
      "metadata": {
        "id": "tiCEiqLvdOJI"
      },
      "execution_count": null,
      "outputs": []
    },
    {
      "cell_type": "markdown",
      "source": [
        "**Load model**"
      ],
      "metadata": {
        "id": "ZElD7pAfnJJG"
      }
    },
    {
      "cell_type": "code",
      "source": [
        "with open('text_classifier', 'rb') as training_model:\n",
        "    model_loaded = pickle.load(training_model)"
      ],
      "metadata": {
        "id": "7_UxTOAXdY9h"
      },
      "execution_count": null,
      "outputs": []
    },
    {
      "cell_type": "markdown",
      "source": [
        "**Test loaded model**"
      ],
      "metadata": {
        "id": "XAjPjIY5nLu5"
      }
    },
    {
      "cell_type": "code",
      "source": [
        "y_pred2 = model_loaded.predict(x_test)"
      ],
      "metadata": {
        "id": "hfebaw7Edleq"
      },
      "execution_count": null,
      "outputs": []
    },
    {
      "cell_type": "code",
      "source": [
        "disp = ConfusionMatrixDisplay(confusion_matrix=confusion_matrix(y_test, y_pred),\n",
        "                              display_labels=label.values())\n",
        "\n",
        "disp.plot()\n",
        "plt.show()\n",
        "\n",
        "print(label)\n",
        "print(classification_report(y_test,y_pred))\n",
        "print(accuracy_score(y_test, y_pred))"
      ],
      "metadata": {
        "colab": {
          "base_uri": "https://localhost:8080/",
          "height": 482
        },
        "id": "2Cnt5IgkdqoB",
        "outputId": "754d0089-ccd2-4d54-ad4c-829eda4e1749"
      },
      "execution_count": null,
      "outputs": [
        {
          "output_type": "display_data",
          "data": {
            "text/plain": [
              "<Figure size 432x288 with 2 Axes>"
            ],
            "image/png": "[encoded data removed]"
          },
          "metadata": {
            "needs_background": "light"
          }
        },
        {
          "output_type": "stream",
          "name": "stdout",
          "text": [
            "{0: 'neg', 1: 'pos'}\n",
            "              precision    recall  f1-score   support\n",
            "\n",
            "           0       0.78      0.88      0.83       200\n",
            "           1       0.86      0.76      0.81       200\n",
            "\n",
            "    accuracy                           0.82       400\n",
            "   macro avg       0.82      0.82      0.82       400\n",
            "weighted avg       0.82      0.82      0.82       400\n",
            "\n",
            "0.8175\n"
          ]
        }
      ]
    },
    {
      "cell_type": "markdown",
      "source": [
        "**Single preds**"
      ],
      "metadata": {
        "id": "gq4K6lM9oGAn"
      }
    },
    {
      "cell_type": "code",
      "source": [
        "def predict(review, model, label):\n",
        "    cleaned_review = text_cleaning(review)\n",
        "\n",
        "    prediction = model_loaded.predict([cleaned_review])\n",
        "    output = int(prediction[0])\n",
        "    probas = model_loaded.predict_proba([cleaned_review])\n",
        "    output_probability = \"{:.2f}\".format(float(probas[:, output]))\n",
        "\n",
        "    # output dictionary\n",
        "    sentiments = {0: \"Negative\", 1: \"Positive\"}\n",
        "\n",
        "    # show results\n",
        "    result = {\"prediction\": sentiments[output], \"Probability\": output_probability}\n",
        "\n",
        "    return result"
      ],
      "metadata": {
        "id": "B2NWzubJGDJt"
      },
      "execution_count": null,
      "outputs": []
    },
    {
      "cell_type": "code",
      "source": [
        "review = 'The Shawshank Redemption is a cinematic masterpiece that will leave you with a sense of hope and admiration for the human spirit'\n",
        "\n",
        "print(predict(review, model_loaded, label))"
      ],
      "metadata": {
        "colab": {
          "base_uri": "https://localhost:8080/"
        },
        "id": "a0oo4FKQoKle",
        "outputId": "76b91e62-d833-4b7d-ff11-2a7db15d22fb"
      },
      "execution_count": null,
      "outputs": [
        {
          "output_type": "stream",
          "name": "stdout",
          "text": [
            "{'prediction': 'Positive', 'Probability': '0.56'}\n"
          ]
        }
      ]
    }
  ]
}